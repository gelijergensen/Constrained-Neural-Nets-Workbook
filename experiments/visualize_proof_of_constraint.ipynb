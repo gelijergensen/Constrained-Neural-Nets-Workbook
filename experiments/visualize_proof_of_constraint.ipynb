{
 "cells": [
  {
   "cell_type": "code",
   "execution_count": null,
   "metadata": {},
   "outputs": [],
   "source": [
    "# Change directory to the root so that relative path loads work correctly\n",
    "import os\n",
    "\n",
    "try:\n",
    "    os.chdir(os.path.join(os.getcwd(), \"..\"))\n",
    "    print(os.getcwd())\n",
    "except:\n",
    "    pass"
   ]
  },
  {
   "cell_type": "code",
   "execution_count": null,
   "metadata": {},
   "outputs": [],
   "source": [
    "import os\n",
    "import sys\n",
    "\n",
    "import torch\n",
    "\n",
    "from experiments.A_proof_of_constraint.visualize import (\n",
    "    plot_constraints,\n",
    "    plot_loss,\n",
    "    plot_time,\n",
    ")"
   ]
  },
  {
   "cell_type": "code",
   "execution_count": null,
   "metadata": {},
   "outputs": [],
   "source": [
    "# Files to load\n",
    "directory = \"/global/u1/g/gelijerg/Projects/pyinsulate/results\"\n",
    "files = [\n",
    "    # unconstrained\n",
    "    \"proof-of-constraint_2019-07-25-09-01-01.pth\",\n",
    "    # average\n",
    "    \"proof-of-constraint_2019-07-25-09-31-56.pth\",\n",
    "    # batchwise\n",
    "    \"proof-of-constraint_2019-07-25-09-40-10.pth\",\n",
    "]"
   ]
  },
  {
   "cell_type": "code",
   "execution_count": null,
   "metadata": {},
   "outputs": [],
   "source": [
    "# Load files\n",
    "summaries = [torch.load(f\"{directory}/{f}\") for f in files]\n",
    "filenames = [os.path.splitext(f)[0] for f in files]"
   ]
  },
  {
   "cell_type": "code",
   "execution_count": null,
   "metadata": {},
   "outputs": [],
   "source": [
    "# Do some plotting\n",
    "for summary, filename in zip(summaries, filenames):\n",
    "    training_monitor = summary[\"training_monitor\"]\n",
    "    evaluation_train_monitor = summary[\"evaluation_train_monitor\"]\n",
    "    evaluation_test_monitor = summary[\"evaluation_test_monitor\"]\n",
    "\n",
    "    print(summary[\"configuration\"])\n",
    "    #     print(training_monitor)\n",
    "    #     print(evaluation_test_monitor.mean_loss)\n",
    "    plot_loss(\n",
    "        [evaluation_train_monitor, evaluation_test_monitor],\n",
    "        [\"Training\", \"Testing\"],\n",
    "        f\"training-loss_{filename}\",\n",
    "    )\n",
    "    plot_loss(\n",
    "        [evaluation_train_monitor, evaluation_test_monitor],\n",
    "        [\"Training\", \"Testing\"],\n",
    "        f\"training-constrained-loss_{filename}\",\n",
    "        title=\"Constrained losses\",\n",
    "        constrained=True,\n",
    "    )\n",
    "    plot_constraints(\n",
    "        [evaluation_train_monitor, evaluation_test_monitor],\n",
    "        [\"Training\", \"Testing\"],\n",
    "        f\"training-constraint_{filename}\",\n",
    "    )\n",
    "\n",
    "    plot_time(training_monitor, f\"compute-time_{filename}\")"
   ]
  },
  {
   "cell_type": "code",
   "execution_count": null,
   "metadata": {},
   "outputs": [],
   "source": [
    "print(\"done!\")"
   ]
  }
 ],
 "metadata": {
  "file_extension": ".py",
  "kernelspec": {
   "display_name": "Python [conda env:torch-gpu]",
   "language": "python",
   "name": "conda-env-torch-gpu-py"
  },
  "language_info": {
   "codemirror_mode": {
    "name": "ipython",
    "version": 3
   },
   "file_extension": ".py",
   "mimetype": "text/x-python",
   "name": "python",
   "nbconvert_exporter": "python",
   "pygments_lexer": "ipython3",
   "version": "3.7.3"
  },
  "mimetype": "text/x-python",
  "name": "python",
  "npconvert_exporter": "python",
  "pygments_lexer": "ipython3",
  "version": 3
 },
 "nbformat": 4,
 "nbformat_minor": 2
}
