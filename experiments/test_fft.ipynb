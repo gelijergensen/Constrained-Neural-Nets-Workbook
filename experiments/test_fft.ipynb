{
 "cells": [
  {
   "cell_type": "markdown",
   "metadata": {},
   "source": [
    "## Fast Fourier Transform and Spectral Reconstruction\n",
    "\n",
    "This notebook enables the exploration of the FFT in PyTorch and helps in determining how to form a continuous representation of a function from a discrete representation of the function over a single period."
   ]
  },
  {
   "cell_type": "code",
   "execution_count": null,
   "metadata": {},
   "outputs": [],
   "source": [
    "# Parameters\n",
    "# 1D example\n",
    "num_points = 100\n",
    "amplitudes = [1.0, 2.0, 0.4]\n",
    "base_frequency = 0.2\n",
    "frequency_multipliers = [1.0]  # , 2.0]#, 3.0] # These need to be integers, please\n",
    "phases = [0.0, 0.2, 0.5]\n",
    "# 2D example\n",
    "num_x_points = 1000\n",
    "num_y_points = 1000\n",
    "amplitudes_2d = [1.0]\n",
    "base_x_frequency = 1.0\n",
    "base_y_frequency = 1.0\n",
    "x_frequency_multipliers = [1.0]  # These need to be integers\n",
    "y_frequency_multipliers = [1.0]  # These need to be integers\n",
    "phases_2d = [0.0]"
   ]
  },
  {
   "cell_type": "code",
   "execution_count": null,
   "metadata": {},
   "outputs": [],
   "source": [
    "import matplotlib as mpl\n",
    "import matplotlib.pyplot as plt\n",
    "import numpy as np\n",
    "import torch\n",
    "\n",
    "from pyinsulate.spectral import SpectralReconstruction"
   ]
  },
  {
   "cell_type": "markdown",
   "metadata": {},
   "source": [
    "### 1D Example"
   ]
  },
  {
   "cell_type": "code",
   "execution_count": null,
   "metadata": {},
   "outputs": [],
   "source": [
    "# Define a functional form of a sine function\n",
    "def construct_wave_equation(amplitude, frequency, phase):\n",
    "    def wave_equation(xs):\n",
    "        return amplitude * torch.sin(2 * np.pi * frequency * xs + phase)\n",
    "\n",
    "    return wave_equation"
   ]
  },
  {
   "cell_type": "code",
   "execution_count": null,
   "metadata": {},
   "outputs": [],
   "source": [
    "# Sample points and plot\n",
    "bounds = (0, 1.0 / base_frequency)\n",
    "x = torch.linspace(*bounds, steps=num_points)[:-1]\n",
    "wave = x.new_zeros(x.size())\n",
    "for amplitude, multiplier, phase in zip(amplitudes, frequency_multipliers, phases):\n",
    "    wave += construct_wave_equation(amplitude, base_frequency * multiplier, phase)(x)\n",
    "\n",
    "fig = plt.figure()\n",
    "plt.plot(x.numpy(), wave.numpy())\n",
    "plt.title(\"Original wave\")\n",
    "plt.xlabel(r\"$x$\")\n",
    "plt.show()"
   ]
  },
  {
   "cell_type": "code",
   "execution_count": null,
   "metadata": {},
   "outputs": [],
   "source": [
    "# Compute the fft of the function\n",
    "wave_fft = torch.rfft(wave, signal_ndim=1, normalized=False, onesided=True)\n",
    "print(wave_fft.size())\n",
    "# plot the fft\n",
    "fig = plt.figure()\n",
    "plt.stem(\n",
    "    wave_fft.numpy()[..., 0],\n",
    "    markerfmt=\"ro\",\n",
    "    linefmt=\"r-\",\n",
    "    basefmt=\" \",\n",
    "    use_line_collection=True,\n",
    ")\n",
    "plt.stem(\n",
    "    wave_fft.numpy()[..., 1],\n",
    "    markerfmt=\"bo\",\n",
    "    linefmt=\"b-\",\n",
    "    basefmt=\" \",\n",
    "    use_line_collection=True,\n",
    ")\n",
    "plt.title(\"DFT(wave)\")\n",
    "plt.xlabel(r\"$f$\")\n",
    "plt.legend([\"real\", \"imag\"])\n",
    "plt.show()"
   ]
  },
  {
   "cell_type": "code",
   "execution_count": null,
   "metadata": {},
   "outputs": [],
   "source": [
    "# Define a new function, which is the reconstruction of the sine\n",
    "def reconstruct(f_transformed):\n",
    "    def f(x):\n",
    "        # torch.ger = outer product\n",
    "        angles = (\n",
    "            2\n",
    "            * np.pi\n",
    "            * torch.ger(torch.arange(len(f_transformed), dtype=f_transformed.dtype), x)\n",
    "        )\n",
    "        cosines = torch.mean(\n",
    "            f_transformed[..., 0].unsqueeze(-1) * torch.cos(angles), dim=0\n",
    "        )\n",
    "        sines = torch.mean(\n",
    "            f_transformed[..., 1].unsqueeze(-1) * torch.sin(angles), dim=0\n",
    "        )\n",
    "        return cosines - sines\n",
    "\n",
    "    return f"
   ]
  },
  {
   "cell_type": "code",
   "execution_count": null,
   "metadata": {},
   "outputs": [],
   "source": [
    "# Sample points from reconstruction and plot\n",
    "larger_x = torch.linspace(-0.1, 1.1, steps=int(6 / 5 * len(x)))[:-1]\n",
    "wave_recon_ext = reconstruct(wave_fft)(larger_x)\n",
    "wave_recon = reconstruct(wave_fft)(torch.linspace(0, 1, steps=len(x))[:-1])\n",
    "\n",
    "\n",
    "print(f\"worst error: {torch.max(wave - wave_recon).item()}\")\n",
    "\n",
    "extension_factor = 2\n",
    "num_complex_coefs = int(np.floor(float(wave.size()[-1]) / 2.0))\n",
    "print(num_complex_coefs)\n",
    "frequencies_size = tuple(\n",
    "    (*wave.size()[:-1], num_complex_coefs * extension_factor + 1, 2)\n",
    ")  # real + imag\n",
    "final_size = tuple((*wave.size()[:-1], extension_factor * wave.size()[-1]))\n",
    "wave_frequencies = wave.new_zeros(frequencies_size)\n",
    "wave_frequencies[..., : num_complex_coefs + 1, :] = torch.rfft(\n",
    "    wave, 1, onesided=True, normalized=False\n",
    ")\n",
    "torch_recon = extension_factor * torch.irfft(\n",
    "    wave_frequencies, 1, onesided=True, normalized=False, signal_sizes=final_size\n",
    ")\n",
    "torch_recon_x = torch.linspace(*bounds, steps=len(torch_recon))\n",
    "baseline = torch.irfft(torch.rfft(wave, 1, onesided=False), 1, onesided=False)\n",
    "print(wave.size())\n",
    "print(torch_recon.size())"
   ]
  },
  {
   "cell_type": "code",
   "execution_count": null,
   "metadata": {},
   "outputs": [],
   "source": [
    "# wave2 = (wave[:-1] + wave[1:])/2\n",
    "# x2 = x[:-1]\n",
    "\n",
    "# plot\n",
    "fig, axes = plt.subplots(1, 3, figsize=(12, 4))\n",
    "axes[0].plot(x.numpy(), wave.numpy(), \"k\", label=\"Truth\")\n",
    "axes[0].plot(x.numpy(), baseline.numpy(), \"g\", label=\"Baseline\")\n",
    "axes[0].plot(torch_recon_x.numpy(), torch_recon.numpy(), \"b\", label=\"IFFT(ext(FFT(.)))\")\n",
    "axes[0].plot(x.numpy(), wave_recon.numpy(), \"r\", label=\"Fourier Series\")\n",
    "axes[0].plot(\n",
    "    (bounds[1] - bounds[0]) * larger_x.numpy() + bounds[0],\n",
    "    wave_recon_ext.numpy(),\n",
    "    \"y\",\n",
    "    label=\"Fourier Series Extended\",\n",
    "    zorder=-1,\n",
    ")\n",
    "axes[0].set_title(\"Reconstructed wave\")\n",
    "axes[0].set_xlabel(r\"$x$\")\n",
    "axes[0].legend()\n",
    "# axes[1].plot(x.numpy(), wave_recon.numpy() - wave.numpy(), 'r', label=\"Fourier Series\")\n",
    "axes[1].plot(\n",
    "    x.numpy(),\n",
    "    torch_recon.numpy()[::extension_factor] - wave.numpy(),\n",
    "    \"b\",\n",
    "    label=\"IFFT(ext(FFT(.)))\",\n",
    ")\n",
    "axes[1].plot(x.numpy(), baseline.numpy() - wave.numpy(), \"g\", label=\"Baseline\")\n",
    "axes[1].set_title(\"Error\")\n",
    "axes[1].set_xlabel(r\"$x$\")\n",
    "axes[1].legend()\n",
    "axes[2].plot(\n",
    "    x.numpy(), np.abs(wave_recon.numpy() - wave.numpy()), \"r\", label=\"Fourier Series\"\n",
    ")\n",
    "axes[2].plot(\n",
    "    x.numpy(),\n",
    "    np.abs(torch_recon.numpy()[::extension_factor] - wave.numpy()),\n",
    "    \"b\",\n",
    "    label=\"IFFT(ext(FFT(.)))\",\n",
    ")\n",
    "axes[2].plot(x.numpy(), np.abs(baseline.numpy() - wave.numpy()), \"g\", label=\"Baseline\")\n",
    "axes[2].set_title(\"Magnitude of error\")\n",
    "axes[2].set_xlabel(r\"$x$\")\n",
    "axes[2].set_yscale(\"log\")\n",
    "axes[2].legend()\n",
    "plt.show()\n",
    "\n",
    "# # Plot DFT of Reconstruction\n",
    "# recon_fft = torch.rfft(torch_recon, signal_ndim=1, normalized=False, onesided=True)\n",
    "# # plot the fft\n",
    "# fig = plt.figure()\n",
    "# plt.stem(wave_fft.numpy()[0,:,0], markerfmt='ro', linefmt='r-', basefmt=' ', use_line_collection=True)\n",
    "# plt.stem(wave_fft.numpy()[0,:,1], markerfmt='bo', linefmt='b-', basefmt=' ', use_line_collection=True)\n",
    "# plt.title(\"DFT(wave)\")\n",
    "# plt.xlabel(r\"$f$\")\n",
    "# plt.legend([\"real\", \"imag\"])\n",
    "# plt.show()"
   ]
  },
  {
   "cell_type": "markdown",
   "metadata": {},
   "source": [
    "### 1D Example using the SpectralReconstruction layer"
   ]
  },
  {
   "cell_type": "code",
   "execution_count": null,
   "metadata": {},
   "outputs": [],
   "source": [
    "def wave_equation(amplitude, frequency, phase, xs):\n",
    "    return amplitude * torch.sin(2 * np.pi * frequency * xs + phase)"
   ]
  },
  {
   "cell_type": "code",
   "execution_count": null,
   "metadata": {},
   "outputs": [],
   "source": [
    "# Create a \"neural network\" with the reconstruction layer\n",
    "net = SpectralReconstruction(1)\n",
    "\n",
    "# Create a fake sine wave\n",
    "# batch_size = np.random.randint(1, 10)\n",
    "batch_size = 1\n",
    "amplitude = torch.rand(batch_size, 1) * 10\n",
    "frequency = torch.randint(\n",
    "    1, 10, size=(batch_size, 1), dtype=amplitude.dtype\n",
    ")  # needs to be integers\n",
    "phase = torch.rand(batch_size, 1) * 2 * np.pi\n",
    "# an odd number of points allows us to test the middle of the domain\n",
    "xs = torch.linspace(0, 1, steps=501).view(1, -1)\n",
    "wave = wave_equation(amplitude, frequency, phase, xs)\n",
    "\n",
    "query_points = xs.unsqueeze(-1)  # torch.rand(amplitude.size())\n",
    "\n",
    "recon = net(wave, query_points)\n",
    "print(f\"recon: {recon.size()}\")\n",
    "# print(f\"recon: {recon}\")\n",
    "\n",
    "# print(\n",
    "#     f\"wave(query_points): {wave_equation(amplitude, frequency, phase, query_points)}\"\n",
    "# )"
   ]
  },
  {
   "cell_type": "code",
   "execution_count": null,
   "metadata": {},
   "outputs": [],
   "source": [
    "# Plot the wave and the reconstruction\n",
    "for b in range(batch_size):\n",
    "    fig, axes = plt.subplots(1, 2)\n",
    "    axes[0].plot(xs.numpy()[b], wave.numpy()[b], \"k\", label=\"Truth\")\n",
    "    axes[0].plot(xs.numpy()[b], recon.numpy()[b], \"r\", label=\"Reconstruction\")\n",
    "    axes[0].set_title(\"Reconstructed wave\")\n",
    "    axes[0].set_xlabel(r\"$x$\")\n",
    "    axes[0].legend()\n",
    "    axes[1].plot(\n",
    "        xs.numpy()[b],\n",
    "        np.abs(recon.numpy()[b] - wave.numpy()[b]),\n",
    "        \"r\",\n",
    "        label=\"Reconstruction\",\n",
    "    )\n",
    "    axes[1].plot(\n",
    "        xs.numpy()[b],\n",
    "        np.abs(torch.irfft(torch.rfft(wave, 1), 1).numpy()[b] - wave.numpy()[b]),\n",
    "        \"k\",\n",
    "        label=\"Baseline\",\n",
    "    )\n",
    "    axes[1].set_title(\"Magnitude of error\")\n",
    "    axes[1].set_xlabel(r\"$x$\")\n",
    "    axes[1].set_yscale(\"log\")\n",
    "    axes[1].legend()\n",
    "    plt.tight_layout()\n",
    "    plt.show()"
   ]
  },
  {
   "cell_type": "markdown",
   "metadata": {},
   "source": [
    "### 2D Example"
   ]
  },
  {
   "cell_type": "code",
   "execution_count": null,
   "metadata": {},
   "outputs": [],
   "source": [
    "# # Define a functional form of 2d a \"sine\" function\n",
    "# def construct_wave_equation(amplitude, x_frequency, y_frequency, phase):\n",
    "#     def wave_equation(xs, ys):\n",
    "#         return amplitude * torch.cos(2 * np.pi * (x_frequency * xs + y_frequency * ys) + phase)\n",
    "\n",
    "#     return wave_equation"
   ]
  },
  {
   "cell_type": "code",
   "execution_count": null,
   "metadata": {},
   "outputs": [],
   "source": [
    "# # Sample points and plot\n",
    "# x_bounds = (0, 1.0 / base_x_frequency)\n",
    "# y_bounds = (0, 1.0 / base_y_frequency)\n",
    "# x = torch.linspace(*x_bounds, steps=num_x_points)\n",
    "# y = torch.linspace(*y_bounds, steps=num_y_points)\n",
    "# xs, ys = torch.meshgrid(x, y)\n",
    "# wave = xs.new_zeros(xs.size())\n",
    "# for amplitude, x_multiplier, y_multiplier, phase in zip(amplitudes, x_frequency_multipliers, y_frequency_multipliers, phases):\n",
    "#     wave += construct_wave_equation(amplitude, base_x_frequency * x_multiplier, base_y_frequency * y_multiplier, phase)(xs, ys)\n",
    "\n",
    "# fig = plt.figure()\n",
    "# plt.imshow(wave.numpy(), extent=(*x_bounds, *y_bounds), cmap=mpl.cm.get_cmap('hot'))\n",
    "# plt.colorbar()\n",
    "# plt.title(\"Original wave\")\n",
    "# plt.xlabel(r\"$x$\")\n",
    "# plt.ylabel(r\"$y$\", rotation=0)\n",
    "# plt.show()"
   ]
  },
  {
   "cell_type": "code",
   "execution_count": null,
   "metadata": {},
   "outputs": [],
   "source": [
    "# # Compute the fft of the function\n",
    "# wave_fft = torch.rfft(wave, signal_ndim=2, normalized=False)\n",
    "# # plot the fft\n",
    "# fig, axes = plt.subplots(1, 2)\n",
    "# im0 = axes[0].imshow(wave_fft.numpy()[...,0], origin=\"lower\")\n",
    "# im1 = axes[1].imshow(wave_fft.numpy()[...,1], origin=\"lower\")\n",
    "# fig.colorbar(im0, ax=axes[0])\n",
    "# fig.colorbar(im1, ax=axes[1])\n",
    "# axes[0].set_xlabel(r\"$f_x$\")\n",
    "# axes[0].set_ylabel(r\"$f_y$\", rotation=0)\n",
    "# axes[1].set_xlabel(r\"$f_x$\")\n",
    "# axes[1].set_ylabel(r\"$f_y$\", rotation=0)\n",
    "# axes[0].set_title(\"Real\")\n",
    "# axes[1].set_title(\"Imag\")\n",
    "# plt.suptitle(\"DFT(wave)\")\n",
    "# plt.tight_layout()\n",
    "# plt.show()"
   ]
  },
  {
   "cell_type": "code",
   "execution_count": null,
   "metadata": {},
   "outputs": [],
   "source": [
    "# # Define a new function, which is the reconstruction of the sine\n",
    "# def reconstruct(f_transformed):\n",
    "#     def f(query_points):\n",
    "#         # torch.ger = outer product\n",
    "#         # TODO figure out how this actually needs to be done.\n",
    "#         frequency_grid = torch.cartesian_prod(*[torch.arange(x, dtype=f_transformed.dtype) for x in f_transformed.size()[:-1]])\n",
    "#         angles = 2 * np.pi * torch.einsum('...,bj->b...j', frequency_grid, query_points)\n",
    "#         sum_dims = tuple(range(1, len(angles.size()))) # all dims but batch\n",
    "#         cosines = torch.mean(f_transformed[..., 0].unsqueeze(-1) * torch.prod(torch.cos(angles), dim=-1), dim=sum_dims)\n",
    "#         sines = torch.mean(f_transformed[..., 1].unsqueeze(-1) * torch.prod(torch.sin(angles), dim=-1), dim=sum_dims)\n",
    "#         return cosines - sines\n",
    "#     return f"
   ]
  },
  {
   "cell_type": "code",
   "execution_count": null,
   "metadata": {},
   "outputs": [],
   "source": [
    "# # Sample points from reconstruction and plot\n",
    "# x_bounds_large = (-0.3, 1.3)\n",
    "# y_bounds_large = (-0.3, 1.3)\n",
    "# x = torch.linspace(*x_bounds_large, steps=num_x_points)\n",
    "# y = torch.linspace(*y_bounds_large, steps=num_y_points)\n",
    "# xs, ys = torch.meshgrid(x, y)\n",
    "# query_points = torch.stack([xs.reshape(-1), ys.reshape(-1)])\n",
    "# wave_recon = reconstruct(wave_fft)(query_points).reshape(xs.size())\n",
    "\n",
    "# fig = plt.figure()\n",
    "# plt.imshow(wave_recon.numpy(), extent=(*x_bounds_large, *y_bounds_large), cmap=mpl.cm.get_cmap('hot'))\n",
    "# plt.colorbar()\n",
    "# plt.title(\"Reconstructed wave\")\n",
    "# plt.xlabel(r\"$x$\")\n",
    "# plt.ylabel(r\"$y$\", rotation=0)\n",
    "# plt.show()"
   ]
  },
  {
   "cell_type": "code",
   "execution_count": null,
   "metadata": {},
   "outputs": [],
   "source": []
  }
 ],
 "metadata": {
  "kernelspec": {
   "display_name": "Python [conda env:.conda-torch3]",
   "language": "python",
   "name": "conda-env-.conda-torch3-py"
  },
  "language_info": {
   "codemirror_mode": {
    "name": "ipython",
    "version": 3
   },
   "file_extension": ".py",
   "mimetype": "text/x-python",
   "name": "python",
   "nbconvert_exporter": "python",
   "pygments_lexer": "ipython3",
   "version": "3.6.8"
  }
 },
 "nbformat": 4,
 "nbformat_minor": 4
}
