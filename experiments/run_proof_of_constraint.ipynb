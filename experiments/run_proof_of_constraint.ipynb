{
 "cells": [
  {
   "cell_type": "code",
   "execution_count": 1,
   "metadata": {},
   "outputs": [
    {
     "name": "stdout",
     "output_type": "stream",
     "text": [
      "/global/u1/g/gelijerg/Projects/pyinsulate\n"
     ]
    }
   ],
   "source": [
    "# Change directory to the root so that relative path loads work correctly\n",
    "import os\n",
    "try:\n",
    "\tos.chdir(os.path.join(os.getcwd(), '..'))\n",
    "\tprint(os.getcwd())\n",
    "except:\n",
    "\tpass"
   ]
  },
  {
   "cell_type": "code",
   "execution_count": 2,
   "metadata": {},
   "outputs": [],
   "source": [
    "from datetime import datetime\n",
    "import torch\n",
    "\n",
    "from experiments.A_proof_of_constraint.main import run_experiment"
   ]
  },
  {
   "cell_type": "code",
   "execution_count": 3,
   "metadata": {},
   "outputs": [],
   "source": [
    "# Saving utilities\n",
    "def get_savefile():\n",
    "    base_name = \"proof-of-constraint\"\n",
    "    time_string = datetime.now().strftime('%Y-%m-%d-%H-%M-%S')\n",
    "    savefile = f\"{base_name}_{time_string}.pth\"\n",
    "    return savefile\n",
    "\n",
    "\n",
    "def save_out(summary, savefile, directory=\"/global/u1/g/gelijerg/Projects/pyinsulate/results\"):\n",
    "    full_file = f\"{directory}/{savefile}\"\n",
    "    print(f\"Saving to file {full_file}\")\n",
    "    torch.save(summary, full_file)"
   ]
  },
  {
   "cell_type": "code",
   "execution_count": 11,
   "metadata": {},
   "outputs": [],
   "source": [
    "# Set configuration\n",
    "configuration = {\n",
    "    'training_sampling': \"uniform\",\n",
    "    'num_points': 100,\n",
    "    'num_training': 10,\n",
    "    'batch_size': 10,\n",
    "    'model_size': [20],\n",
    "    'method': \"unconstrained\",\n",
    "    'learning_rate': 1e-2,\n",
    "}\n",
    "num_epochs = 5"
   ]
  },
  {
   "cell_type": "code",
   "execution_count": 12,
   "metadata": {},
   "outputs": [
    {
     "name": "stdout",
     "output_type": "stream",
     "text": [
      "Running proof of constraint with savefile proof-of-constraint_2019-07-23-09-02-27.pth\n",
      "{'frequency': 1.0, 'phase': None, 'amplitude': 1.0, 'num_points': 100, 'num_training': 10, 'training_sampling': 'uniform', 'batch_size': 10, 'model_size': [20], 'model_act': ReLU(), 'model_final_act': None, 'learning_rate': 0.01, 'method': 'unconstrained'}\n",
      "Epoch[1] - Constrained loss: 1.46184, Loss: 1.46184\n",
      "Epoch[1] Training Summary - \n",
      "Epoch[1] Testing Summary - \n",
      "Epoch[2] - Constrained loss: 1.11983, Loss: 1.11983\n",
      "Epoch[2] Training Summary - \n",
      "Epoch[2] Testing Summary - \n",
      "Epoch[3] - Constrained loss: 0.85849, Loss: 0.85849\n",
      "Epoch[3] Training Summary - \n",
      "Epoch[3] Testing Summary - \n",
      "Epoch[4] - Constrained loss: 0.67665, Loss: 0.67665\n",
      "Epoch[4] Training Summary - \n",
      "Epoch[4] Testing Summary - \n",
      "Epoch[5] - Constrained loss: 0.56658, Loss: 0.56658\n",
      "Epoch[5] Training Summary - \n",
      "Epoch[5] Testing Summary - \n",
      "Completed run with savefile proof-of-constraint_2019-07-23-09-02-27.pth\n"
     ]
    }
   ],
   "source": [
    "# Run experiment\n",
    "savefile = get_savefile()\n",
    "print(f\"Running proof of constraint with savefile {savefile}\")\n",
    "final_result = run_experiment(num_epochs, log=print, **configuration)\n",
    "print(f\"Completed run with savefile {savefile}\")"
   ]
  },
  {
   "cell_type": "code",
   "execution_count": 13,
   "metadata": {},
   "outputs": [
    {
     "name": "stdout",
     "output_type": "stream",
     "text": [
      "Saving to file /global/u1/g/gelijerg/Projects/pyinsulate/results/proof-of-constraint_2019-07-23-09-02-27.pth\n"
     ]
    }
   ],
   "source": [
    "# Save out\n",
    "configuration, (trainer, train_evaluator, test_evaluator), \\\n",
    "(training_monitor, evaluation_train_monitor, evaluation_test_monitor) = final_result\n",
    "\n",
    "save_out({\n",
    "    'configuration': configuration,\n",
    "    'training_monitor': training_monitor,\n",
    "    'evaluation_train_monitor': evaluation_train_monitor,\n",
    "    'evaluation_test_monitor': evaluation_test_monitor,\n",
    "}, savefile=savefile)"
   ]
  },
  {
   "cell_type": "code",
   "execution_count": 7,
   "metadata": {},
   "outputs": [
    {
     "name": "stdout",
     "output_type": "stream",
     "text": [
      "done!\n"
     ]
    }
   ],
   "source": [
    "print('done!')"
   ]
  }
 ],
 "metadata": {
  "file_extension": ".py",
  "kernelspec": {
   "display_name": "Python [conda env:torch-gpu]",
   "language": "python",
   "name": "conda-env-torch-gpu-py"
  },
  "language_info": {
   "codemirror_mode": {
    "name": "ipython",
    "version": 3
   },
   "file_extension": ".py",
   "mimetype": "text/x-python",
   "name": "python",
   "nbconvert_exporter": "python",
   "pygments_lexer": "ipython3",
   "version": "3.7.3"
  },
  "mimetype": "text/x-python",
  "name": "python",
  "npconvert_exporter": "python",
  "pygments_lexer": "ipython3",
  "version": 3
 },
 "nbformat": 4,
 "nbformat_minor": 2
}
